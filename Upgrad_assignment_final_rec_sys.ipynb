{
  "nbformat": 4,
  "nbformat_minor": 0,
  "metadata": {
    "colab": {
      "provenance": []
    },
    "kernelspec": {
      "name": "python3",
      "display_name": "Python 3"
    },
    "language_info": {
      "name": "python"
    }
  },
  "cells": [
    {
      "cell_type": "markdown",
      "source": [
        "# Upgrad Recommender Assignment EDA"
      ],
      "metadata": {
        "id": "h-q7DofGdwXO"
      }
    },
    {
      "cell_type": "markdown",
      "source": [
        "## Setup"
      ],
      "metadata": {
        "id": "85aM-pPzdxq5"
      }
    },
    {
      "cell_type": "markdown",
      "source": [
        "#### GDrive"
      ],
      "metadata": {
        "id": "8P-jw8fydxhD"
      }
    },
    {
      "cell_type": "code",
      "source": [
        "import os\n",
        "# give googe drive the required permission\n",
        "from google.colab import drive\n",
        "drive.mount('/content/drive')"
      ],
      "metadata": {
        "colab": {
          "base_uri": "https://localhost:8080/"
        },
        "id": "ow8BOZaaJaV6",
        "outputId": "a567e7b3-4467-466e-af8c-2faaf0de955b"
      },
      "execution_count": 1,
      "outputs": [
        {
          "output_type": "stream",
          "name": "stdout",
          "text": [
            "Mounted at /content/drive\n"
          ]
        }
      ]
    },
    {
      "cell_type": "code",
      "source": [
        "os.chdir(\"/content/drive/MyDrive/pyspark/code_files/\")\n",
        "os.getcwd()"
      ],
      "metadata": {
        "colab": {
          "base_uri": "https://localhost:8080/",
          "height": 36
        },
        "id": "Tghm0avrJhJR",
        "outputId": "c59642b0-16b9-4e42-893b-d1cd68e6c4ca"
      },
      "execution_count": 2,
      "outputs": [
        {
          "output_type": "execute_result",
          "data": {
            "text/plain": [
              "'/content/drive/MyDrive/pyspark/code_files'"
            ],
            "application/vnd.google.colaboratory.intrinsic+json": {
              "type": "string"
            }
          },
          "metadata": {},
          "execution_count": 2
        }
      ]
    },
    {
      "cell_type": "markdown",
      "source": [
        "#### Spark"
      ],
      "metadata": {
        "id": "4uDxGZ_iJWPs"
      }
    },
    {
      "cell_type": "code",
      "source": [
        "try:\n",
        "  import pyspark\n",
        "except:\n",
        "  !pip install pyspark==3.1.2\n",
        "  import pyspark"
      ],
      "metadata": {
        "colab": {
          "base_uri": "https://localhost:8080/"
        },
        "id": "eF3jpAF5I8Nm",
        "outputId": "884bdc97-6e65-4229-8b53-de20e3fb9738"
      },
      "execution_count": 3,
      "outputs": [
        {
          "output_type": "stream",
          "name": "stdout",
          "text": [
            "Looking in indexes: https://pypi.org/simple, https://us-python.pkg.dev/colab-wheels/public/simple/\n",
            "Collecting pyspark==3.1.2\n",
            "  Downloading pyspark-3.1.2.tar.gz (212.4 MB)\n",
            "\u001b[2K     \u001b[90m━━━━━━━━━━━━━━━━━━━━━━━━━━━━━━━━━━━━━━━\u001b[0m \u001b[32m212.4/212.4 MB\u001b[0m \u001b[31m2.5 MB/s\u001b[0m eta \u001b[36m0:00:00\u001b[0m\n",
            "\u001b[?25h  Preparing metadata (setup.py) ... \u001b[?25l\u001b[?25hdone\n",
            "Collecting py4j==0.10.9 (from pyspark==3.1.2)\n",
            "  Downloading py4j-0.10.9-py2.py3-none-any.whl (198 kB)\n",
            "\u001b[2K     \u001b[90m━━━━━━━━━━━━━━━━━━━━━━━━━━━━━━━━━━━━━━\u001b[0m \u001b[32m198.6/198.6 kB\u001b[0m \u001b[31m18.3 MB/s\u001b[0m eta \u001b[36m0:00:00\u001b[0m\n",
            "\u001b[?25hBuilding wheels for collected packages: pyspark\n",
            "  Building wheel for pyspark (setup.py) ... \u001b[?25l\u001b[?25hdone\n",
            "  Created wheel for pyspark: filename=pyspark-3.1.2-py2.py3-none-any.whl size=212880756 sha256=f6e0ffac47bd949864d69cf05538055efad3d5e5f2f50b29ce1677ee879e80ff\n",
            "  Stored in directory: /root/.cache/pip/wheels/ef/70/50/7882e1bcb5693225f7cc86698f10953201b48b3f36317c2d18\n",
            "Successfully built pyspark\n",
            "Installing collected packages: py4j, pyspark\n",
            "  Attempting uninstall: py4j\n",
            "    Found existing installation: py4j 0.10.9.7\n",
            "    Uninstalling py4j-0.10.9.7:\n",
            "      Successfully uninstalled py4j-0.10.9.7\n",
            "Successfully installed py4j-0.10.9 pyspark-3.1.2\n"
          ]
        }
      ]
    },
    {
      "cell_type": "code",
      "source": [
        "try:\n",
        "  import lenskit\n",
        "except:\n",
        "  %pip install lenskit"
      ],
      "metadata": {
        "colab": {
          "base_uri": "https://localhost:8080/"
        },
        "id": "rMOzumYrjQvo",
        "outputId": "aed8a116-8a0a-4bac-d709-3304a073e378"
      },
      "execution_count": 46,
      "outputs": [
        {
          "output_type": "stream",
          "name": "stdout",
          "text": [
            "Looking in indexes: https://pypi.org/simple, https://us-python.pkg.dev/colab-wheels/public/simple/\n",
            "Collecting lenskit\n",
            "  Downloading lenskit-0.14.2-py3-none-any.whl (74 kB)\n",
            "\u001b[2K     \u001b[90m━━━━━━━━━━━━━━━━━━━━━━━━━━━━━━━━━━━━━━━━\u001b[0m \u001b[32m74.0/74.0 kB\u001b[0m \u001b[31m4.0 MB/s\u001b[0m eta \u001b[36m0:00:00\u001b[0m\n",
            "\u001b[?25hRequirement already satisfied: pandas==1.*,>=1.0 in /usr/local/lib/python3.10/dist-packages (from lenskit) (1.5.3)\n",
            "Requirement already satisfied: numpy>=1.17 in /usr/local/lib/python3.10/dist-packages (from lenskit) (1.22.4)\n",
            "Requirement already satisfied: scipy>=1.2 in /usr/local/lib/python3.10/dist-packages (from lenskit) (1.10.1)\n",
            "Requirement already satisfied: numba<0.57,>=0.51 in /usr/local/lib/python3.10/dist-packages (from lenskit) (0.56.4)\n",
            "Requirement already satisfied: cffi>=1.12.2 in /usr/local/lib/python3.10/dist-packages (from lenskit) (1.15.1)\n",
            "Requirement already satisfied: psutil>=5 in /usr/local/lib/python3.10/dist-packages (from lenskit) (5.9.5)\n",
            "Collecting binpickle>=0.3.2 (from lenskit)\n",
            "  Downloading binpickle-0.3.4-py3-none-any.whl (13 kB)\n",
            "Collecting seedbank>=0.1.0 (from lenskit)\n",
            "  Downloading seedbank-0.1.2-py3-none-any.whl (7.9 kB)\n",
            "Collecting csr>=0.3.1 (from lenskit)\n",
            "  Downloading csr-0.5.0-py3-none-any.whl (25 kB)\n",
            "Requirement already satisfied: python-dateutil>=2.8.1 in /usr/local/lib/python3.10/dist-packages (from pandas==1.*,>=1.0->lenskit) (2.8.2)\n",
            "Requirement already satisfied: pytz>=2020.1 in /usr/local/lib/python3.10/dist-packages (from pandas==1.*,>=1.0->lenskit) (2022.7.1)\n",
            "Requirement already satisfied: msgpack>=1.0 in /usr/local/lib/python3.10/dist-packages (from binpickle>=0.3.2->lenskit) (1.0.5)\n",
            "Requirement already satisfied: pycparser in /usr/local/lib/python3.10/dist-packages (from cffi>=1.12.2->lenskit) (2.21)\n",
            "Requirement already satisfied: llvmlite<0.40,>=0.39.0dev0 in /usr/local/lib/python3.10/dist-packages (from numba<0.57,>=0.51->lenskit) (0.39.1)\n",
            "Requirement already satisfied: setuptools in /usr/local/lib/python3.10/dist-packages (from numba<0.57,>=0.51->lenskit) (67.7.2)\n",
            "Collecting anyconfig (from seedbank>=0.1.0->lenskit)\n",
            "  Downloading anyconfig-0.13.0-py2.py3-none-any.whl (87 kB)\n",
            "\u001b[2K     \u001b[90m━━━━━━━━━━━━━━━━━━━━━━━━━━━━━━━━━━━━━━━━\u001b[0m \u001b[32m87.8/87.8 kB\u001b[0m \u001b[31m8.6 MB/s\u001b[0m eta \u001b[36m0:00:00\u001b[0m\n",
            "\u001b[?25hRequirement already satisfied: six>=1.5 in /usr/local/lib/python3.10/dist-packages (from python-dateutil>=2.8.1->pandas==1.*,>=1.0->lenskit) (1.16.0)\n",
            "Installing collected packages: binpickle, anyconfig, seedbank, csr, lenskit\n",
            "Successfully installed anyconfig-0.13.0 binpickle-0.3.4 csr-0.5.0 lenskit-0.14.2 seedbank-0.1.2\n"
          ]
        }
      ]
    },
    {
      "cell_type": "code",
      "execution_count": 4,
      "metadata": {
        "id": "e19e9e85"
      },
      "outputs": [],
      "source": [
        "from pyspark.sql import SparkSession\n",
        "from pyspark.context import SparkContext"
      ]
    },
    {
      "cell_type": "code",
      "execution_count": 5,
      "metadata": {
        "id": "a366ae04"
      },
      "outputs": [],
      "source": [
        "spark = SparkSession.builder.master(\"local\").config('spark.ui.port', '4050').getOrCreate()"
      ]
    },
    {
      "cell_type": "code",
      "execution_count": 6,
      "metadata": {
        "colab": {
          "base_uri": "https://localhost:8080/",
          "height": 222
        },
        "id": "23a59c44",
        "outputId": "29312d25-cb87-4d23-8150-8afe8ec6ccae"
      },
      "outputs": [
        {
          "output_type": "execute_result",
          "data": {
            "text/plain": [
              "<pyspark.sql.session.SparkSession at 0x7fb075f38580>"
            ],
            "text/html": [
              "\n",
              "            <div>\n",
              "                <p><b>SparkSession - in-memory</b></p>\n",
              "                \n",
              "        <div>\n",
              "            <p><b>SparkContext</b></p>\n",
              "\n",
              "            <p><a href=\"http://99748b29a1e2:4050\">Spark UI</a></p>\n",
              "\n",
              "            <dl>\n",
              "              <dt>Version</dt>\n",
              "                <dd><code>v3.1.2</code></dd>\n",
              "              <dt>Master</dt>\n",
              "                <dd><code>local</code></dd>\n",
              "              <dt>AppName</dt>\n",
              "                <dd><code>pyspark-shell</code></dd>\n",
              "            </dl>\n",
              "        </div>\n",
              "        \n",
              "            </div>\n",
              "        "
            ]
          },
          "metadata": {},
          "execution_count": 6
        }
      ],
      "source": [
        "spark"
      ]
    },
    {
      "cell_type": "markdown",
      "metadata": {
        "id": "e7a7213e"
      },
      "source": [
        "## Import Library"
      ]
    },
    {
      "cell_type": "code",
      "execution_count": 95,
      "metadata": {
        "id": "063e86e8"
      },
      "outputs": [],
      "source": [
        "import pandas as pd\n",
        "import numpy as np\n",
        "\n",
        "# Import for typecasting columns\n",
        "from pyspark.sql.types import IntegerType,BooleanType,DateType,FloatType,StringType\n",
        "from pyspark.sql.types import ArrayType\n",
        "\n",
        "# Pyspark Functions\n",
        "from pyspark.sql.functions import regexp_replace, split, col, datediff, months_between, when, count, countDistinct, posexplode\n",
        "from pyspark.sql.types import IntegerType, BooleanType, DateType, FloatType, StringType, ArrayType\n",
        "\n",
        "# Model Functions\n",
        "from lenskit import batch, topn, util\n",
        "from lenskit.algorithms import Recommender, als, item_knn as knn\n",
        "from pyspark.ml.recommendation import ALS\n",
        "\n",
        "# Evaludation Functions\n",
        "from pyspark.ml.evaluation import RegressionEvaluator"
      ]
    },
    {
      "cell_type": "markdown",
      "metadata": {
        "id": "156c7d44"
      },
      "source": [
        "## Reading Data"
      ]
    },
    {
      "cell_type": "code",
      "source": [
        "raw_ratings_df = (spark.read.csv(\"raw_ratings_small.csv\", # modify the path to read the data\n",
        "                                 header=True,\n",
        "                                 inferSchema= True))\n",
        "raw_ratings_df.show(5)"
      ],
      "metadata": {
        "colab": {
          "base_uri": "https://localhost:8080/"
        },
        "id": "tnbmd6ykQR-U",
        "outputId": "e74463f9-c83e-4963-eda4-60b11cc3eacf"
      },
      "execution_count": 8,
      "outputs": [
        {
          "output_type": "stream",
          "name": "stdout",
          "text": [
            "+-------+---------+------+--------------------+-----------+\n",
            "|user_id|recipe_id|rating|              review|review_date|\n",
            "+-------+---------+------+--------------------+-----------+\n",
            "| 483827|   306785|     5|Being a  huge fan...| 2008-07-15|\n",
            "|   6258|    20930|     5|Jan  what an inte...| 2002-07-09|\n",
            "| 102602|    20930|     5|Jan  we love your...| 2003-10-26|\n",
            "| 296027|   182985|     4|Very nice fresh s...| 2007-05-19|\n",
            "|   9580|   208980|     5|I saw this on 30 ...| 2007-02-05|\n",
            "+-------+---------+------+--------------------+-----------+\n",
            "only showing top 5 rows\n",
            "\n"
          ]
        }
      ]
    },
    {
      "cell_type": "code",
      "source": [
        "raw_recipes_df = spark.read.csv(\"raw_recipies_small.csv\", # modify the path to read the data\n",
        "                                header=True,\n",
        "                                inferSchema=True)\n",
        "raw_recipes_df.show(5)"
      ],
      "metadata": {
        "colab": {
          "base_uri": "https://localhost:8080/"
        },
        "id": "k0gL_KrIQR7Q",
        "outputId": "78d5dbff-e5c1-4f7d-fb4f-e0fbdbe546d1"
      },
      "execution_count": 9,
      "outputs": [
        {
          "output_type": "stream",
          "name": "stdout",
          "text": [
            "+--------------------+-----+-------+--------------+----------+--------------------+--------------------+-------+--------------------+--------------------+--------------------+-------------+--------------+\n",
            "|                name|   id|minutes|contributor_id| submitted|                tags|           nutrition|n_steps|               steps|         description|         ingredients|n_ingredients|year_of_review|\n",
            "+--------------------+-----+-------+--------------+----------+--------------------+--------------------+-------+--------------------+--------------------+--------------------+-------------+--------------+\n",
            "|beat this  banana...|75452|     70|         15892|2003-11-04|['weeknight', 'ti...|[2669.3, 160.0, 9...|     12|['preheat oven to...|  from ann hodgman's|['sugar', 'unsalt...|            9|          2003|\n",
            "|      chinese  candy|23933|     15|         35268|2002-03-29|['15-minutes-or-l...|[232.7, 21.0, 77....|      4|['melt butterscot...|a little differen...|['butterscotch ch...|            3|          2002|\n",
            "|cream  of caulifl...|23850|    110|          3288|2002-03-28|['lactose', 'week...|[174.2, 4.0, 24.0...|     10|['heat the oil or...|this is a dairy free|['canola oil', 'o...|           16|          2002|\n",
            "|cream  of spinach...|76808|     45|         95743|2003-11-17|['60-minutes-or-l...|[126.0, 11.0, 2.0...|      9|['bring water and...|wonderful comfort...|['water', 'salt',...|            8|          2003|\n",
            "|i can t believe i...|33165|     30|         40493|2002-07-04|['30-minutes-or-l...|[152.5, 2.0, 20.0...|     12|['cut potatoes in...|the name says it ...|['red potatoes', ...|           13|          2002|\n",
            "+--------------------+-----+-------+--------------+----------+--------------------+--------------------+-------+--------------------+--------------------+--------------------+-------------+--------------+\n",
            "only showing top 5 rows\n",
            "\n"
          ]
        }
      ]
    },
    {
      "cell_type": "code",
      "source": [
        "raw_recipes_cleaned_df = spark.read.csv(\"RAW_recipes_cleaned.csv\", # modify the path to read the data\n",
        "                                header=True,\n",
        "                                inferSchema=True)"
      ],
      "metadata": {
        "id": "Vu1a6Fqf0J1A"
      },
      "execution_count": 10,
      "outputs": []
    },
    {
      "cell_type": "code",
      "source": [
        "raw_recipes_cleaned_df.show(5)"
      ],
      "metadata": {
        "colab": {
          "base_uri": "https://localhost:8080/"
        },
        "id": "J1C3RY330eNU",
        "outputId": "5c501b8c-4f59-49de-a91b-696715804924"
      },
      "execution_count": 11,
      "outputs": [
        {
          "output_type": "stream",
          "name": "stdout",
          "text": [
            "+--------------------+------+-------+--------------+----------+--------------------+--------------------+-------+--------------------+--------------------+--------------------+-------------+\n",
            "|                name|    id|minutes|contributor_id| submitted|                tags|           nutrition|n_steps|               steps|         description|         ingredients|n_ingredients|\n",
            "+--------------------+------+-------+--------------+----------+--------------------+--------------------+-------+--------------------+--------------------+--------------------+-------------+\n",
            "|arriba   baked wi...|137739|     55|         47892|2005-09-16|['60-minutes-or-l...|[51.5, 0.0, 13.0,...|     11|['make a choice a...|autumn is my favo...|['winter squash',...|            7|\n",
            "|a bit different  ...| 31490|     30|         26278|2002-06-17|['30-minutes-or-l...|[173.4, 18.0, 0.0...|      9|['preheat oven to...|this recipe calls...|['prepared pizza ...|            6|\n",
            "|all in the kitche...|112140|    130|        196586|2005-02-25|['time-to-make', ...|[269.8, 22.0, 32....|      6|['brown ground be...|this modified ver...|['ground beef', '...|           13|\n",
            "|  alouette  potatoes| 59389|     45|         68585|2003-04-14|['60-minutes-or-l...|[368.1, 17.0, 10....|     11|['place potatoes ...|this is a super e...|['spreadable chee...|           11|\n",
            "|amish  tomato ket...| 44061|    190|         41706|2002-10-25|['weeknight', 'ti...|[352.9, 1.0, 337....|      5|['mix all ingredi...|my dh's amish mot...|['tomato juice', ...|            8|\n",
            "+--------------------+------+-------+--------------+----------+--------------------+--------------------+-------+--------------------+--------------------+--------------------+-------------+\n",
            "only showing top 5 rows\n",
            "\n"
          ]
        }
      ]
    },
    {
      "cell_type": "markdown",
      "metadata": {
        "id": "16f7366d"
      },
      "source": [
        "#### Code Check"
      ]
    },
    {
      "cell_type": "code",
      "execution_count": 12,
      "metadata": {
        "id": "1d07ca1a"
      },
      "outputs": [],
      "source": [
        "assert (raw_recipes_df.count(), len(raw_recipes_df.columns)) == (20340, 13)\n",
        "assert (raw_ratings_df.count(), len(raw_ratings_df.columns)) == (93357, 5)"
      ]
    },
    {
      "cell_type": "markdown",
      "metadata": {
        "id": "9793b0f8"
      },
      "source": [
        "## Data Cleaning"
      ]
    },
    {
      "cell_type": "code",
      "execution_count": 13,
      "metadata": {
        "colab": {
          "base_uri": "https://localhost:8080/"
        },
        "id": "3194408b",
        "outputId": "e99ebb6e-5562-49ed-e1a1-e99ab73ae04f"
      },
      "outputs": [
        {
          "output_type": "stream",
          "name": "stdout",
          "text": [
            "root\n",
            " |-- name: string (nullable = true)\n",
            " |-- id: integer (nullable = true)\n",
            " |-- minutes: integer (nullable = true)\n",
            " |-- contributor_id: integer (nullable = true)\n",
            " |-- submitted: string (nullable = true)\n",
            " |-- tags: string (nullable = true)\n",
            " |-- nutrition: string (nullable = true)\n",
            " |-- n_steps: integer (nullable = true)\n",
            " |-- steps: string (nullable = true)\n",
            " |-- description: string (nullable = true)\n",
            " |-- ingredients: string (nullable = true)\n",
            " |-- n_ingredients: integer (nullable = true)\n",
            " |-- year_of_review: integer (nullable = true)\n",
            "\n"
          ]
        }
      ],
      "source": [
        "raw_recipes_df.printSchema()"
      ]
    },
    {
      "cell_type": "code",
      "source": [
        "raw_ratings_df.printSchema()"
      ],
      "metadata": {
        "colab": {
          "base_uri": "https://localhost:8080/"
        },
        "id": "gLuPxDKcyAkY",
        "outputId": "0f6e32d1-4b6b-4101-8881-19163f0d16e8"
      },
      "execution_count": 14,
      "outputs": [
        {
          "output_type": "stream",
          "name": "stdout",
          "text": [
            "root\n",
            " |-- user_id: integer (nullable = true)\n",
            " |-- recipe_id: integer (nullable = true)\n",
            " |-- rating: integer (nullable = true)\n",
            " |-- review: string (nullable = true)\n",
            " |-- review_date: string (nullable = true)\n",
            "\n"
          ]
        }
      ]
    },
    {
      "cell_type": "code",
      "source": [
        "raw_recipes_df.select(*(count(when(col(c).isNull(), c)).alias(c) for c in raw_recipes_df.columns)).show()"
      ],
      "metadata": {
        "colab": {
          "base_uri": "https://localhost:8080/"
        },
        "id": "oIE4mDyrzmCT",
        "outputId": "593f2feb-c3d2-45e0-8c3e-3b209b66ad33"
      },
      "execution_count": 15,
      "outputs": [
        {
          "output_type": "stream",
          "name": "stdout",
          "text": [
            "+----+---+-------+--------------+---------+----+---------+-------+-----+-----------+-----------+-------------+--------------+\n",
            "|name| id|minutes|contributor_id|submitted|tags|nutrition|n_steps|steps|description|ingredients|n_ingredients|year_of_review|\n",
            "+----+---+-------+--------------+---------+----+---------+-------+-----+-----------+-----------+-------------+--------------+\n",
            "|   0|  0|      0|             0|        0|   0|        0|      0|    0|        242|          0|            0|             0|\n",
            "+----+---+-------+--------------+---------+----+---------+-------+-----+-----------+-----------+-------------+--------------+\n",
            "\n"
          ]
        }
      ]
    },
    {
      "cell_type": "code",
      "source": [
        "raw_ratings_df.select(*(count(when(col(c).isNull(), c)).alias(c) for c in raw_ratings_df.columns)).show()"
      ],
      "metadata": {
        "colab": {
          "base_uri": "https://localhost:8080/"
        },
        "id": "AGsUvmaA0Hrd",
        "outputId": "0ebfc17b-7102-4147-a267-99b3c8be5eeb"
      },
      "execution_count": 16,
      "outputs": [
        {
          "output_type": "stream",
          "name": "stdout",
          "text": [
            "+-------+---------+------+------+-----------+\n",
            "|user_id|recipe_id|rating|review|review_date|\n",
            "+-------+---------+------+------+-----------+\n",
            "|      0|        0|     0|     7|          0|\n",
            "+-------+---------+------+------+-----------+\n",
            "\n"
          ]
        }
      ]
    },
    {
      "cell_type": "markdown",
      "source": [
        "There are a few null values in the data, but we all the important values are present, so we are going to use all the data for analysis"
      ],
      "metadata": {
        "id": "fCuYvDgA9U26"
      }
    },
    {
      "cell_type": "markdown",
      "metadata": {
        "id": "c3e216e3"
      },
      "source": [
        "Nutrition is a string column, which should be an array column <br>\n",
        "Submitted is a string column, which should be a date column <br>\n",
        "Tags is a string column, which should be an array column"
      ]
    },
    {
      "cell_type": "markdown",
      "metadata": {
        "id": "bddd222b"
      },
      "source": [
        "## EDA"
      ]
    },
    {
      "cell_type": "markdown",
      "metadata": {
        "id": "8d210693"
      },
      "source": [
        "#### Nutrition Column into multiple columns"
      ]
    },
    {
      "cell_type": "code",
      "source": [
        "# Removing square brackets from string\n",
        "raw_recipes_df = raw_recipes_df.withColumn('nutrition', regexp_replace('nutrition', \"[\\\\[\\\\]]\", \"\"))"
      ],
      "metadata": {
        "id": "cb8rvAnqwcFx"
      },
      "execution_count": 17,
      "outputs": []
    },
    {
      "cell_type": "code",
      "execution_count": 18,
      "metadata": {
        "id": "67342955"
      },
      "outputs": [],
      "source": [
        "# List of nutrition columns\n",
        "\n",
        "nutrition_column_names = ['calories',\n",
        "                          'total_fat_PDV',\n",
        "                          'sugar_PDV',\n",
        "                          'sodium_PDV',\n",
        "                          'protein_PDV',\n",
        "                          'saturated_fat_PDV',\n",
        "                          'carbohydrates_PDV']"
      ]
    },
    {
      "cell_type": "code",
      "execution_count": 19,
      "metadata": {
        "id": "4cc27b47"
      },
      "outputs": [],
      "source": [
        "nutrition_cols_split = split(raw_recipes_df['nutrition'], ',')\n",
        "\n",
        "# Write a loop to extract individual values from the nutrition column\n",
        "\n",
        "for col_index, col_name in enumerate(nutrition_column_names):\n",
        "    raw_recipes_df = raw_recipes_df.withColumn(col_name, nutrition_cols_split.getItem(col_index))\n",
        "    raw_recipes_df = raw_recipes_df.withColumn(col_name, raw_recipes_df[col_name].cast(FloatType()))"
      ]
    },
    {
      "cell_type": "code",
      "execution_count": 20,
      "metadata": {
        "id": "aa69ae9b"
      },
      "outputs": [],
      "source": [
        "# Standardize the nutrition values\n",
        "\n",
        "for nutrition_col in nutrition_column_names:\n",
        "    if nutrition_col!='calories':\n",
        "\n",
        "        nutrition_per_100_cal_col = (nutrition_col.replace('_PDV','') + '_per_100_cal')\n",
        "        raw_recipes_df = raw_recipes_df.withColumn(nutrition_per_100_cal_col,\n",
        "                                               col(nutrition_col)*100/col(\"calories\"))\n",
        "\n",
        "        raw_recipes_df = raw_recipes_df.na.fill(value=0,subset=[nutrition_per_100_cal_col])"
      ]
    },
    {
      "cell_type": "markdown",
      "metadata": {
        "id": "347916c7"
      },
      "source": [
        "### Convert the tags column from a string to an array of strings"
      ]
    },
    {
      "cell_type": "code",
      "execution_count": 21,
      "metadata": {
        "id": "10194b16"
      },
      "outputs": [],
      "source": [
        "raw_recipes_df = raw_recipes_df.withColumn('tags', regexp_replace('tags', \"[\\\\[\\\\]\\\\']\", \"\")).withColumn('tags', regexp_replace('tags', \" \", \"\")).withColumn('tags', split('tags', ','))"
      ]
    },
    {
      "cell_type": "markdown",
      "metadata": {
        "id": "3365c7d7"
      },
      "source": [
        "### Join both the dataframes using the recipie IDs."
      ]
    },
    {
      "cell_type": "code",
      "execution_count": 22,
      "metadata": {
        "id": "97836b7a"
      },
      "outputs": [],
      "source": [
        "interaction_level_df = raw_ratings_df.join(raw_recipes_df,\n",
        "                                           raw_ratings_df.recipe_id ==  raw_recipes_df.id,\n",
        "                                           \"left\"\n",
        "                                           )"
      ]
    },
    {
      "cell_type": "markdown",
      "metadata": {
        "id": "85c9cfcf"
      },
      "source": [
        "### Creating time based features"
      ]
    },
    {
      "cell_type": "code",
      "execution_count": 23,
      "metadata": {
        "id": "bd249a57"
      },
      "outputs": [],
      "source": [
        "# Converting columns to datetype\n",
        "interaction_level_df = (interaction_level_df\n",
        "                        .withColumn('submitted', interaction_level_df['submitted'].cast(DateType())\n",
        "                                   )\n",
        "                        .withColumn('review_date', interaction_level_df['review_date'].cast(DateType())\n",
        "                                   )\n",
        "                       )"
      ]
    },
    {
      "cell_type": "code",
      "execution_count": 24,
      "metadata": {
        "id": "f56c716b"
      },
      "outputs": [],
      "source": [
        "interaction_level_df = (interaction_level_df\n",
        "                        .withColumn('days_since_submission_on_review_date',\n",
        "                                     datediff(col('review_date'),col('submitted'))\n",
        "                                   )\n",
        "                        .withColumn('months_since_submission_on_review_date',\n",
        "                                     months_between(col('review_date'),col('submitted'))\n",
        "                                   )\n",
        "                        .withColumn('years_since_submission_on_review_date',\n",
        "                                     months_between(col('review_date'),col('submitted'))/12\n",
        "                                   )\n",
        "                         )"
      ]
    },
    {
      "cell_type": "code",
      "source": [
        "interaction_level_df.show(5)"
      ],
      "metadata": {
        "colab": {
          "base_uri": "https://localhost:8080/"
        },
        "id": "BB0aX5qeEnS7",
        "outputId": "742a710a-e462-46b2-b662-c69832df4211"
      },
      "execution_count": 25,
      "outputs": [
        {
          "output_type": "stream",
          "name": "stdout",
          "text": [
            "+-------+---------+------+--------------------+-----------+--------------------+-----+-------+--------------+----------+--------------------+--------------------+-------+--------------------+--------------------+--------------------+-------------+--------------+--------+-------------+---------+----------+-----------+-----------------+-----------------+---------------------+------------------+------------------+-------------------+-------------------------+-------------------------+------------------------------------+--------------------------------------+-------------------------------------+\n",
            "|user_id|recipe_id|rating|              review|review_date|                name|   id|minutes|contributor_id| submitted|                tags|           nutrition|n_steps|               steps|         description|         ingredients|n_ingredients|year_of_review|calories|total_fat_PDV|sugar_PDV|sodium_PDV|protein_PDV|saturated_fat_PDV|carbohydrates_PDV|total_fat_per_100_cal| sugar_per_100_cal|sodium_per_100_cal|protein_per_100_cal|saturated_fat_per_100_cal|carbohydrates_per_100_cal|days_since_submission_on_review_date|months_since_submission_on_review_date|years_since_submission_on_review_date|\n",
            "+-------+---------+------+--------------------+-----------+--------------------+-----+-------+--------------+----------+--------------------+--------------------+-------+--------------------+--------------------+--------------------+-------------+--------------+--------+-------------+---------+----------+-----------+-----------------+-----------------+---------------------+------------------+------------------+-------------------+-------------------------+-------------------------+------------------------------------+--------------------------------------+-------------------------------------+\n",
            "| 152552|    29601|     5|Excellent. It was...| 2004-08-20|zippy cold spicy ...|29601|    270|         30367|2002-05-29|[time-to-make, co...|277.2, 15.0, 13.0...|     12|['in a heavy 10-i...|shrimp drink in t...|['oil', 'medium s...|           11|          2002|   277.2|         15.0|     13.0|      21.0|       74.0|              7.0|              2.0|    5.411255172960458| 4.689754483232397|7.5757572421446415|  26.69552551993826|        2.525252414048214|       0.7215006897280611|                                 814|                           26.70967742|                   2.2258064516666667|\n",
            "|  16334|    33602|     5|So easy my husban...| 2002-12-20|zucchini with oni...|33602|     50|         23302|2002-07-08|[60-minutes-or-le...|84.4, 5.0, 28.0, ...|      5|['melt the butter...|                null|['unsalted butter...|            6|          2002|    84.4|          5.0|     28.0|       1.0|        6.0|              9.0|              4.0|    5.924170509009872|33.175354850455285|1.1848341018019743|  7.109004610811846|        10.66350691621777|        4.739336407207897|                                 165|                            5.38709677|                  0.44892473083333334|\n",
            "|  31635|    33602|     4|Absolutely delici...| 2005-06-03|zucchini with oni...|33602|     50|         23302|2002-07-08|[60-minutes-or-le...|84.4, 5.0, 28.0, ...|      5|['melt the butter...|                null|['unsalted butter...|            6|          2002|    84.4|          5.0|     28.0|       1.0|        6.0|              9.0|              4.0|    5.924170509009872|33.175354850455285|1.1848341018019743|  7.109004610811846|        10.66350691621777|        4.739336407207897|                                1061|                           34.83870968|                   2.9032258066666667|\n",
            "|  35526|    33602|     5|We really liked t...| 2005-11-09|zucchini with oni...|33602|     50|         23302|2002-07-08|[60-minutes-or-le...|84.4, 5.0, 28.0, ...|      5|['melt the butter...|                null|['unsalted butter...|            6|          2002|    84.4|          5.0|     28.0|       1.0|        6.0|              9.0|              4.0|    5.924170509009872|33.175354850455285|1.1848341018019743|  7.109004610811846|        10.66350691621777|        4.739336407207897|                                1220|                           40.03225806|                   3.3360215049999997|\n",
            "|  48107|    35912|     4|The quiche was ve...| 2002-12-24|cheesy bacon   sa...|35912|     75|         45698|2002-08-02|[bacon, weeknight...|4123.9, 503.0, 26...|     13|['preheat oven to...|neat breakfast (o...|['breakfast sausa...|            9|          2002|  4123.9|        503.0|     26.0|     331.0|      340.0|            612.0|             39.0|   12.197192267303295|0.6304711708745242| 8.026382983056443|  8.244623003743778|         14.8403214067388|       0.9457067563117862|                                 144|                            4.70967742|                  0.39247311833333337|\n",
            "+-------+---------+------+--------------------+-----------+--------------------+-----+-------+--------------+----------+--------------------+--------------------+-------+--------------------+--------------------+--------------------+-------------+--------------+--------+-------------+---------+----------+-----------+-----------------+-----------------+---------------------+------------------+------------------+-------------------+-------------------------+-------------------------+------------------------------------+--------------------------------------+-------------------------------------+\n",
            "only showing top 5 rows\n",
            "\n"
          ]
        }
      ]
    },
    {
      "cell_type": "markdown",
      "source": [
        "## Feature Selection"
      ],
      "metadata": {
        "id": "bZAr5rv3E2kZ"
      }
    },
    {
      "cell_type": "markdown",
      "source": [
        "Removing features which are text, and cannot be used to as of now: <br>\n",
        "['review', 'name', 'id', 'contributer_id', 'submitted', 'tags', 'nutrition', 'Steps', 'description', 'year of review', 'total_fat_PDV', 'sugar_PDV',\n",
        "'sodium_PDV', 'protein_PDV', 'saturated_fat_PDV', 'carbohydrates_PDV', 'ingredients']"
      ],
      "metadata": {
        "id": "ZJWX6aFvFBNO"
      }
    },
    {
      "cell_type": "code",
      "source": [
        "interaction_level_df = interaction_level_df.drop('review', 'name', 'id', 'contributer_id', 'submitted', 'tags', 'nutrition', 'Steps', 'description', 'year of review', 'total_fat_PDV', 'sugar_PDV',\n",
        "'sodium_PDV', 'protein_PDV', 'saturated_fat_PDV', 'carbohydrates_PDV', 'ingredients')"
      ],
      "metadata": {
        "id": "cbxnIGfnG13O"
      },
      "execution_count": 26,
      "outputs": []
    },
    {
      "cell_type": "code",
      "source": [
        "# Checking for null values\n",
        "interaction_level_df.select(*(count(when(col(c).isNull(), c)).alias(c) for c in interaction_level_df.columns)).show()"
      ],
      "metadata": {
        "colab": {
          "base_uri": "https://localhost:8080/"
        },
        "id": "bFAf13daJpND",
        "outputId": "b2b19757-f737-4585-a2c5-32e46402fb7c"
      },
      "execution_count": 27,
      "outputs": [
        {
          "output_type": "stream",
          "name": "stdout",
          "text": [
            "+-------+---------+------+-----------+-------+--------------+-------+-------------+--------------+--------+---------------------+-----------------+------------------+-------------------+-------------------------+-------------------------+------------------------------------+--------------------------------------+-------------------------------------+\n",
            "|user_id|recipe_id|rating|review_date|minutes|contributor_id|n_steps|n_ingredients|year_of_review|calories|total_fat_per_100_cal|sugar_per_100_cal|sodium_per_100_cal|protein_per_100_cal|saturated_fat_per_100_cal|carbohydrates_per_100_cal|days_since_submission_on_review_date|months_since_submission_on_review_date|years_since_submission_on_review_date|\n",
            "+-------+---------+------+-----------+-------+--------------+-------+-------------+--------------+--------+---------------------+-----------------+------------------+-------------------+-------------------------+-------------------------+------------------------------------+--------------------------------------+-------------------------------------+\n",
            "|      0|        0|     0|          0|      0|             0|      0|            0|             0|       0|                    0|                0|                 0|                  0|                        0|                        0|                                   0|                                     0|                                    0|\n",
            "+-------+---------+------+-----------+-------+--------------+-------+-------------+--------------+--------+---------------------+-----------------+------------------+-------------------+-------------------------+-------------------------+------------------------------------+--------------------------------------+-------------------------------------+\n",
            "\n"
          ]
        }
      ]
    },
    {
      "cell_type": "markdown",
      "source": [
        "## Task 1: Train Test Split"
      ],
      "metadata": {
        "id": "5uxNlZlu9r1_"
      }
    },
    {
      "cell_type": "code",
      "source": [
        "# No of rows requried for training\n",
        "num_review_int = interaction_level_df.count()\n",
        "test_num_reviews_int = round(num_review_int *0.2)\n",
        "test_num_reviews_int\n"
      ],
      "metadata": {
        "colab": {
          "base_uri": "https://localhost:8080/"
        },
        "id": "2xwqR9M9JZFR",
        "outputId": "6ad2ce8d-17e4-4e66-9459-243bb23757a6"
      },
      "execution_count": 28,
      "outputs": [
        {
          "output_type": "execute_result",
          "data": {
            "text/plain": [
              "18671"
            ]
          },
          "metadata": {},
          "execution_count": 28
        }
      ]
    },
    {
      "cell_type": "markdown",
      "source": [
        "#### Finding date where to split"
      ],
      "metadata": {
        "id": "CHGfZaGUVa2m"
      }
    },
    {
      "cell_type": "code",
      "source": [
        "temp_ratings_df = (interaction_level_df.sort(\"review_date\", ascending=False)\n",
        "                                 .limit(test_num_reviews_int)\n",
        "                  )"
      ],
      "metadata": {
        "id": "sxCY8pBONVBj"
      },
      "execution_count": 29,
      "outputs": []
    },
    {
      "cell_type": "code",
      "source": [
        "assert temp_ratings_df.count()  == 18671"
      ],
      "metadata": {
        "id": "Gp3fot8_VhuC"
      },
      "execution_count": 30,
      "outputs": []
    },
    {
      "cell_type": "code",
      "source": [
        "cutoff_date = temp_ratings_df.collect()[-1][3]\n",
        "cutoff_date"
      ],
      "metadata": {
        "colab": {
          "base_uri": "https://localhost:8080/"
        },
        "id": "B8BtLMbqVjcp",
        "outputId": "bd0f24b7-b38a-4501-f565-44f04cacb4b6"
      },
      "execution_count": 31,
      "outputs": [
        {
          "output_type": "execute_result",
          "data": {
            "text/plain": [
              "datetime.date(2011, 7, 17)"
            ]
          },
          "metadata": {},
          "execution_count": 31
        }
      ]
    },
    {
      "cell_type": "markdown",
      "source": [
        "#### Testing and Training data"
      ],
      "metadata": {
        "id": "uxxKlEgPX98W"
      }
    },
    {
      "cell_type": "code",
      "source": [
        "# All interactions which were rated BEFORE '2011-07-17' will be train data.\n",
        "\n",
        "train_ratings_df  = interaction_level_df.filter(\n",
        "                                             interaction_level_df.review_date < cutoff_date\n",
        "                                           )"
      ],
      "metadata": {
        "id": "ExAPq5TAVvgx"
      },
      "execution_count": 72,
      "outputs": []
    },
    {
      "cell_type": "code",
      "source": [
        "# All interactions which were rated ON OR AFTER '2011-07-17' will be test data.\n",
        "\n",
        "test_ratings_df  = interaction_level_df.filter(\n",
        "                                            interaction_level_df.review_date >= cutoff_date\n",
        "                                           )"
      ],
      "metadata": {
        "id": "6cBMoB_1YDNo"
      },
      "execution_count": 73,
      "outputs": []
    },
    {
      "cell_type": "code",
      "source": [
        "# no of columns are different as, I have already filtered for some columns for training and testing\n",
        "\n",
        "assert (test_interaction_level_all_recipies_df.count(), len(test_interaction_level_all_recipies_df.columns)) == (18684, 19)\n",
        "assert (train_interaction_level_df.count(), len(train_interaction_level_df.columns)) == (74673, 19)"
      ],
      "metadata": {
        "id": "5Ie-RdbaYEzU"
      },
      "execution_count": 34,
      "outputs": []
    },
    {
      "cell_type": "markdown",
      "source": [
        "## Task 2: Collaborative Filtering Model"
      ],
      "metadata": {
        "id": "lsIt2LtCghT0"
      }
    },
    {
      "cell_type": "code",
      "source": [
        "# Count the total number of ratings in the dataset\n",
        "numerator = train_ratings_df.select(\"rating\").count()\n",
        "\n",
        "# Count the number of distinct userIds and distinct recipe_Ids\n",
        "num_users = train_ratings_df.select(\"user_id\").distinct().count()\n",
        "num_recipes = train_ratings_df.select(\"recipe_id\").distinct().count()\n",
        "\n",
        "# Set the denominator equal to the number of users multiplied by the number of movies\n",
        "denominator = num_users * num_recipes\n",
        "\n",
        "# Divide the numerator by the denominator\n",
        "sparsity = (1.0 - (numerator *1.0)/denominator)*100\n",
        "print(\"The training dataframe is \", \"%.7f\" % sparsity + \"% empty.\")"
      ],
      "metadata": {
        "colab": {
          "base_uri": "https://localhost:8080/"
        },
        "id": "lz28t5H7YwwF",
        "outputId": "000881cf-b87e-4dc0-bedb-51a117436233"
      },
      "execution_count": 44,
      "outputs": [
        {
          "output_type": "stream",
          "name": "stdout",
          "text": [
            "The training dataframe is  99.9829264% empty.\n"
          ]
        }
      ]
    },
    {
      "cell_type": "markdown",
      "source": [
        "### Model Buiding"
      ],
      "metadata": {
        "id": "kmfRsWPUhBux"
      }
    },
    {
      "cell_type": "code",
      "source": [
        "def manual_recommendation_check (user_id):\n",
        "  '''\n",
        "  Given a user ID form the test dataset, this function will return the names of the recipes recommended to the user.\n",
        "\n",
        "  Initialize this function after the all_recs data frame is calculated.\n",
        "\n",
        "  Input user_id of a user from the test set as an integer.\n",
        "  Prints the names of recipes recommended to this user.\n",
        "  Returns nothing.\n",
        "  '''\n",
        "  recs_user = test_predictions_unseen[test_predictions_unseen.user == user_id]\n",
        "  recs_user_list = list(recs_user.item.values)\n",
        "  recs_user_list = [x.item() for x in recs_user_list]\n",
        "  display((raw_recipes_df.filter(F.col('id').isin(recs_user_list))\n",
        "               .select(\"name\")\n",
        "               .collect(10)\n",
        "               ))"
      ],
      "metadata": {
        "id": "IxN7d92SgPRS"
      },
      "execution_count": 78,
      "outputs": []
    },
    {
      "cell_type": "code",
      "source": [
        "def manual_recommendation_check (user_id):\n",
        "\n",
        "  recs_user = all_recs_als[all_recs_als.user == user_id]\n",
        "  recs_user_list = list(recs_user.item.values)\n",
        "  recs_user_list = [x.item() for x in recs_user_list]\n",
        "  display((raw_recipes_df.filter(F.col('id').isin(recs_user_list))\n",
        "               .select(\"name\")\n",
        "               .collect(10)\n",
        "               ))"
      ],
      "metadata": {
        "id": "rLZ39XtJqz9e"
      },
      "execution_count": null,
      "outputs": []
    },
    {
      "cell_type": "code",
      "source": [
        "als_model = ALS(userCol= \"user_id\", itemCol= \"recipe_id\", ratingCol= \"rating\", nonnegative = True, implicitPrefs = False, coldStartStrategy=\"drop\")"
      ],
      "metadata": {
        "id": "ZZSH-lVLiyYA"
      },
      "execution_count": 69,
      "outputs": []
    },
    {
      "cell_type": "code",
      "source": [
        "assert type(als_model) == pyspark.ml.recommendation.ALS"
      ],
      "metadata": {
        "id": "k90Nu06ci0ZB"
      },
      "execution_count": 70,
      "outputs": []
    },
    {
      "cell_type": "markdown",
      "source": [
        "#### Model Fitting and Training"
      ],
      "metadata": {
        "id": "2aNs3iBCnjLf"
      }
    },
    {
      "cell_type": "code",
      "source": [
        "model = als_model.fit(train_ratings_df)"
      ],
      "metadata": {
        "id": "d0TQXsu7lY-3"
      },
      "execution_count": 74,
      "outputs": []
    },
    {
      "cell_type": "markdown",
      "source": [
        "### Model Predictions"
      ],
      "metadata": {
        "id": "tUTOxE2kn7JA"
      }
    },
    {
      "cell_type": "code",
      "source": [
        "# use the model to create predictions for test data\n",
        "test_predictions_unseen = model.transform(test_ratings_df)"
      ],
      "metadata": {
        "id": "m0CFoevCmhYn"
      },
      "execution_count": 75,
      "outputs": []
    },
    {
      "cell_type": "code",
      "source": [
        "assert test_predictions_unseen.select(col(\"prediction\"))"
      ],
      "metadata": {
        "id": "i7Hwz6lnoQ7q"
      },
      "execution_count": 76,
      "outputs": []
    },
    {
      "cell_type": "code",
      "source": [
        "test_predictions_unseen.select(col(\"user_id\"),\n",
        "                               col(\"recipe_id\"),\n",
        "                               col(\"rating\"),\n",
        "                               col(\"prediction\")\n",
        "                              ).show(5)"
      ],
      "metadata": {
        "colab": {
          "base_uri": "https://localhost:8080/"
        },
        "id": "_J-YdPjaoTUz",
        "outputId": "cba4c077-4615-40bb-c7c6-c915df507f43"
      },
      "execution_count": 82,
      "outputs": [
        {
          "output_type": "stream",
          "name": "stdout",
          "text": [
            "+-------+---------+------+----------+\n",
            "|user_id|recipe_id|rating|prediction|\n",
            "+-------+---------+------+----------+\n",
            "| 199020|    55265|     5|  4.411028|\n",
            "| 369284|    76143|     5| 3.6750858|\n",
            "| 224235|    89385|     5|   4.41608|\n",
            "| 385423|    95476|     4| 3.4344254|\n",
            "| 538098|    95476|     5| 4.3493814|\n",
            "+-------+---------+------+----------+\n",
            "only showing top 5 rows\n",
            "\n"
          ]
        }
      ]
    },
    {
      "cell_type": "markdown",
      "source": [
        "#### Recommenation from model"
      ],
      "metadata": {
        "id": "9dToiki0pc7x"
      }
    },
    {
      "cell_type": "code",
      "source": [
        "# Making 10 recommendation for each user\n",
        "\n",
        "recommendations = model.recommendForAllUsers(10)"
      ],
      "metadata": {
        "id": "bUEtpLoso9Ss"
      },
      "execution_count": 83,
      "outputs": []
    },
    {
      "cell_type": "code",
      "source": [
        "assert len(dict(recommendations.select(col(\"recommendations\")).collect()[0][0])) == 10"
      ],
      "metadata": {
        "id": "08_KvfaQsQKX"
      },
      "execution_count": 85,
      "outputs": []
    },
    {
      "cell_type": "code",
      "source": [
        "# Transfroming the results by exploding the recommendations column\n",
        "\n",
        "recommendations = (recommendations.select(col(\"user_id\"),\n",
        "                                          posexplode(F.col(\"recommendations\")).alias(\"pos\", \"item\"))\n",
        "                                  .select(col(\"user_id\"),\n",
        "                                          col(\"pos\"),\n",
        "                                          col(\"item.recipe_id\").alias(\"recomended_recipe_id\"),\n",
        "                                          col(\"item.rating\").alias(\"predicted_rating\")))"
      ],
      "metadata": {
        "id": "6DCr25KcsQHk"
      },
      "execution_count": 88,
      "outputs": []
    },
    {
      "cell_type": "code",
      "source": [
        "recommendations.show(5)"
      ],
      "metadata": {
        "colab": {
          "base_uri": "https://localhost:8080/"
        },
        "id": "rUddLwLOAujG",
        "outputId": "8eff5cee-f184-468f-b561-834d46c31e0a"
      },
      "execution_count": 89,
      "outputs": [
        {
          "output_type": "stream",
          "name": "stdout",
          "text": [
            "+-------+---+--------------------+----------------+\n",
            "|user_id|pos|recomended_recipe_id|predicted_rating|\n",
            "+-------+---+--------------------+----------------+\n",
            "|  28170|  0|              146694|       6.1493006|\n",
            "|  28170|  1|               65833|        5.973863|\n",
            "|  28170|  2|              156550|       5.9331894|\n",
            "|  28170|  3|              108417|       5.9030004|\n",
            "|  28170|  4|              360099|       5.8052964|\n",
            "+-------+---+--------------------+----------------+\n",
            "only showing top 5 rows\n",
            "\n"
          ]
        }
      ]
    },
    {
      "cell_type": "markdown",
      "source": [
        "## Task 4: Model Evaluation"
      ],
      "metadata": {
        "id": "PLCG1ZQYsWeM"
      }
    },
    {
      "cell_type": "markdown",
      "source": [
        "### RMSE"
      ],
      "metadata": {
        "id": "iydBtxAssb3u"
      }
    },
    {
      "cell_type": "code",
      "source": [
        "# Define evaluator as RMSE and print RMSE value\n",
        "evaluator_seen = RegressionEvaluator(metricName=\"rmse\",\n",
        "                                     labelCol= \"rating\",\n",
        "                                     predictionCol= \"prediction\"\n",
        "                                     )"
      ],
      "metadata": {
        "id": "U5Q-ExWDsbfL"
      },
      "execution_count": 92,
      "outputs": []
    },
    {
      "cell_type": "code",
      "source": [
        "RMSE = evaluator_seen.evaluate(test_predictions_unseen) # Use the evaluator to find the RMSE on the test set.\n",
        "print(RMSE)"
      ],
      "metadata": {
        "colab": {
          "base_uri": "https://localhost:8080/"
        },
        "id": "A821QOLdsZYu",
        "outputId": "f3b5ae09-28cc-49c6-b179-432869938f7f"
      },
      "execution_count": 93,
      "outputs": [
        {
          "output_type": "stream",
          "name": "stdout",
          "text": [
            "1.4124921079602855\n"
          ]
        }
      ]
    },
    {
      "cell_type": "markdown",
      "source": [
        "### Rank based Metrics"
      ],
      "metadata": {
        "id": "Vru8qptI-z5D"
      }
    },
    {
      "cell_type": "code",
      "source": [
        "# Converting recommendation to pandas df\n",
        "all_recs_als = recommendations.toPandas()"
      ],
      "metadata": {
        "id": "6Or3Qa5_-0r5"
      },
      "execution_count": 94,
      "outputs": []
    },
    {
      "cell_type": "code",
      "source": [
        "column_names = {'user_id': 'user', 'pos': 'rank', 'recomended_recipe_id': 'item', 'predicted_rating':\t'score'}\n",
        "all_recs_als = all_recs_als.rename(columns=column_names)"
      ],
      "metadata": {
        "id": "0PGNcbz4-5Yc"
      },
      "execution_count": 97,
      "outputs": []
    },
    {
      "cell_type": "code",
      "source": [
        "all_recs_als[\"algorithm\"] = \"ALS\""
      ],
      "metadata": {
        "id": "nSBXKsCs-7r5"
      },
      "execution_count": 98,
      "outputs": []
    },
    {
      "cell_type": "code",
      "source": [
        "all_recs_als.head()"
      ],
      "metadata": {
        "colab": {
          "base_uri": "https://localhost:8080/",
          "height": 206
        },
        "id": "tvYUWlelDFfg",
        "outputId": "b4a4c401-b714-4cf6-cec7-6c852f1986bf"
      },
      "execution_count": 99,
      "outputs": [
        {
          "output_type": "execute_result",
          "data": {
            "text/plain": [
              "    user  rank    item     score algorithm\n",
              "0  28170     0  146694  6.149301       ALS\n",
              "1  28170     1   65833  5.973863       ALS\n",
              "2  28170     2  156550  5.933189       ALS\n",
              "3  28170     3  108417  5.903000       ALS\n",
              "4  28170     4  360099  5.805296       ALS"
            ],
            "text/html": [
              "\n",
              "  <div id=\"df-64cb065b-98be-4aa9-b9c5-9fec90490f87\">\n",
              "    <div class=\"colab-df-container\">\n",
              "      <div>\n",
              "<style scoped>\n",
              "    .dataframe tbody tr th:only-of-type {\n",
              "        vertical-align: middle;\n",
              "    }\n",
              "\n",
              "    .dataframe tbody tr th {\n",
              "        vertical-align: top;\n",
              "    }\n",
              "\n",
              "    .dataframe thead th {\n",
              "        text-align: right;\n",
              "    }\n",
              "</style>\n",
              "<table border=\"1\" class=\"dataframe\">\n",
              "  <thead>\n",
              "    <tr style=\"text-align: right;\">\n",
              "      <th></th>\n",
              "      <th>user</th>\n",
              "      <th>rank</th>\n",
              "      <th>item</th>\n",
              "      <th>score</th>\n",
              "      <th>algorithm</th>\n",
              "    </tr>\n",
              "  </thead>\n",
              "  <tbody>\n",
              "    <tr>\n",
              "      <th>0</th>\n",
              "      <td>28170</td>\n",
              "      <td>0</td>\n",
              "      <td>146694</td>\n",
              "      <td>6.149301</td>\n",
              "      <td>ALS</td>\n",
              "    </tr>\n",
              "    <tr>\n",
              "      <th>1</th>\n",
              "      <td>28170</td>\n",
              "      <td>1</td>\n",
              "      <td>65833</td>\n",
              "      <td>5.973863</td>\n",
              "      <td>ALS</td>\n",
              "    </tr>\n",
              "    <tr>\n",
              "      <th>2</th>\n",
              "      <td>28170</td>\n",
              "      <td>2</td>\n",
              "      <td>156550</td>\n",
              "      <td>5.933189</td>\n",
              "      <td>ALS</td>\n",
              "    </tr>\n",
              "    <tr>\n",
              "      <th>3</th>\n",
              "      <td>28170</td>\n",
              "      <td>3</td>\n",
              "      <td>108417</td>\n",
              "      <td>5.903000</td>\n",
              "      <td>ALS</td>\n",
              "    </tr>\n",
              "    <tr>\n",
              "      <th>4</th>\n",
              "      <td>28170</td>\n",
              "      <td>4</td>\n",
              "      <td>360099</td>\n",
              "      <td>5.805296</td>\n",
              "      <td>ALS</td>\n",
              "    </tr>\n",
              "  </tbody>\n",
              "</table>\n",
              "</div>\n",
              "      <button class=\"colab-df-convert\" onclick=\"convertToInteractive('df-64cb065b-98be-4aa9-b9c5-9fec90490f87')\"\n",
              "              title=\"Convert this dataframe to an interactive table.\"\n",
              "              style=\"display:none;\">\n",
              "        \n",
              "  <svg xmlns=\"http://www.w3.org/2000/svg\" height=\"24px\"viewBox=\"0 0 24 24\"\n",
              "       width=\"24px\">\n",
              "    <path d=\"M0 0h24v24H0V0z\" fill=\"none\"/>\n",
              "    <path d=\"M18.56 5.44l.94 2.06.94-2.06 2.06-.94-2.06-.94-.94-2.06-.94 2.06-2.06.94zm-11 1L8.5 8.5l.94-2.06 2.06-.94-2.06-.94L8.5 2.5l-.94 2.06-2.06.94zm10 10l.94 2.06.94-2.06 2.06-.94-2.06-.94-.94-2.06-.94 2.06-2.06.94z\"/><path d=\"M17.41 7.96l-1.37-1.37c-.4-.4-.92-.59-1.43-.59-.52 0-1.04.2-1.43.59L10.3 9.45l-7.72 7.72c-.78.78-.78 2.05 0 2.83L4 21.41c.39.39.9.59 1.41.59.51 0 1.02-.2 1.41-.59l7.78-7.78 2.81-2.81c.8-.78.8-2.07 0-2.86zM5.41 20L4 18.59l7.72-7.72 1.47 1.35L5.41 20z\"/>\n",
              "  </svg>\n",
              "      </button>\n",
              "      \n",
              "  <style>\n",
              "    .colab-df-container {\n",
              "      display:flex;\n",
              "      flex-wrap:wrap;\n",
              "      gap: 12px;\n",
              "    }\n",
              "\n",
              "    .colab-df-convert {\n",
              "      background-color: #E8F0FE;\n",
              "      border: none;\n",
              "      border-radius: 50%;\n",
              "      cursor: pointer;\n",
              "      display: none;\n",
              "      fill: #1967D2;\n",
              "      height: 32px;\n",
              "      padding: 0 0 0 0;\n",
              "      width: 32px;\n",
              "    }\n",
              "\n",
              "    .colab-df-convert:hover {\n",
              "      background-color: #E2EBFA;\n",
              "      box-shadow: 0px 1px 2px rgba(60, 64, 67, 0.3), 0px 1px 3px 1px rgba(60, 64, 67, 0.15);\n",
              "      fill: #174EA6;\n",
              "    }\n",
              "\n",
              "    [theme=dark] .colab-df-convert {\n",
              "      background-color: #3B4455;\n",
              "      fill: #D2E3FC;\n",
              "    }\n",
              "\n",
              "    [theme=dark] .colab-df-convert:hover {\n",
              "      background-color: #434B5C;\n",
              "      box-shadow: 0px 1px 3px 1px rgba(0, 0, 0, 0.15);\n",
              "      filter: drop-shadow(0px 1px 2px rgba(0, 0, 0, 0.3));\n",
              "      fill: #FFFFFF;\n",
              "    }\n",
              "  </style>\n",
              "\n",
              "      <script>\n",
              "        const buttonEl =\n",
              "          document.querySelector('#df-64cb065b-98be-4aa9-b9c5-9fec90490f87 button.colab-df-convert');\n",
              "        buttonEl.style.display =\n",
              "          google.colab.kernel.accessAllowed ? 'block' : 'none';\n",
              "\n",
              "        async function convertToInteractive(key) {\n",
              "          const element = document.querySelector('#df-64cb065b-98be-4aa9-b9c5-9fec90490f87');\n",
              "          const dataTable =\n",
              "            await google.colab.kernel.invokeFunction('convertToInteractive',\n",
              "                                                     [key], {});\n",
              "          if (!dataTable) return;\n",
              "\n",
              "          const docLinkHtml = 'Like what you see? Visit the ' +\n",
              "            '<a target=\"_blank\" href=https://colab.research.google.com/notebooks/data_table.ipynb>data table notebook</a>'\n",
              "            + ' to learn more about interactive tables.';\n",
              "          element.innerHTML = '';\n",
              "          dataTable['output_type'] = 'display_data';\n",
              "          await google.colab.output.renderOutput(dataTable, element);\n",
              "          const docLink = document.createElement('div');\n",
              "          docLink.innerHTML = docLinkHtml;\n",
              "          element.appendChild(docLink);\n",
              "        }\n",
              "      </script>\n",
              "    </div>\n",
              "  </div>\n",
              "  "
            ]
          },
          "metadata": {},
          "execution_count": 99
        }
      ]
    },
    {
      "cell_type": "code",
      "source": [
        "# Convert the test dataset to pandas and ensure that it has the same column names as shown in the cell below.\n",
        "# Also, note there are only three columns in the rest data. You have to ensure your test data looks identical.\n",
        "\n",
        "test_data = test_ratings_df.select(\"user_id\", \"recipe_id\", \"rating\").toPandas()\n",
        "test_data.rename(columns = {\"user_id\":\"user\", \"recipe_id\":\"item\", \"rating\":\"rating\"}, inplace = True)\n",
        "test_data.head()"
      ],
      "metadata": {
        "colab": {
          "base_uri": "https://localhost:8080/",
          "height": 206
        },
        "id": "REr3LItu-9E8",
        "outputId": "4d536489-13ff-42b7-d67e-6855d51195c4"
      },
      "execution_count": 101,
      "outputs": [
        {
          "output_type": "execute_result",
          "data": {
            "text/plain": [
              "         user    item  rating\n",
              "0  1803719199  278119       5\n",
              "1  2002330544  278119       4\n",
              "2     1239906  234183       5\n",
              "3      286566  229794       5\n",
              "4  2001454217  232046       4"
            ],
            "text/html": [
              "\n",
              "  <div id=\"df-8aa7a124-6c5c-4eb7-8b60-823183ce3b57\">\n",
              "    <div class=\"colab-df-container\">\n",
              "      <div>\n",
              "<style scoped>\n",
              "    .dataframe tbody tr th:only-of-type {\n",
              "        vertical-align: middle;\n",
              "    }\n",
              "\n",
              "    .dataframe tbody tr th {\n",
              "        vertical-align: top;\n",
              "    }\n",
              "\n",
              "    .dataframe thead th {\n",
              "        text-align: right;\n",
              "    }\n",
              "</style>\n",
              "<table border=\"1\" class=\"dataframe\">\n",
              "  <thead>\n",
              "    <tr style=\"text-align: right;\">\n",
              "      <th></th>\n",
              "      <th>user</th>\n",
              "      <th>item</th>\n",
              "      <th>rating</th>\n",
              "    </tr>\n",
              "  </thead>\n",
              "  <tbody>\n",
              "    <tr>\n",
              "      <th>0</th>\n",
              "      <td>1803719199</td>\n",
              "      <td>278119</td>\n",
              "      <td>5</td>\n",
              "    </tr>\n",
              "    <tr>\n",
              "      <th>1</th>\n",
              "      <td>2002330544</td>\n",
              "      <td>278119</td>\n",
              "      <td>4</td>\n",
              "    </tr>\n",
              "    <tr>\n",
              "      <th>2</th>\n",
              "      <td>1239906</td>\n",
              "      <td>234183</td>\n",
              "      <td>5</td>\n",
              "    </tr>\n",
              "    <tr>\n",
              "      <th>3</th>\n",
              "      <td>286566</td>\n",
              "      <td>229794</td>\n",
              "      <td>5</td>\n",
              "    </tr>\n",
              "    <tr>\n",
              "      <th>4</th>\n",
              "      <td>2001454217</td>\n",
              "      <td>232046</td>\n",
              "      <td>4</td>\n",
              "    </tr>\n",
              "  </tbody>\n",
              "</table>\n",
              "</div>\n",
              "      <button class=\"colab-df-convert\" onclick=\"convertToInteractive('df-8aa7a124-6c5c-4eb7-8b60-823183ce3b57')\"\n",
              "              title=\"Convert this dataframe to an interactive table.\"\n",
              "              style=\"display:none;\">\n",
              "        \n",
              "  <svg xmlns=\"http://www.w3.org/2000/svg\" height=\"24px\"viewBox=\"0 0 24 24\"\n",
              "       width=\"24px\">\n",
              "    <path d=\"M0 0h24v24H0V0z\" fill=\"none\"/>\n",
              "    <path d=\"M18.56 5.44l.94 2.06.94-2.06 2.06-.94-2.06-.94-.94-2.06-.94 2.06-2.06.94zm-11 1L8.5 8.5l.94-2.06 2.06-.94-2.06-.94L8.5 2.5l-.94 2.06-2.06.94zm10 10l.94 2.06.94-2.06 2.06-.94-2.06-.94-.94-2.06-.94 2.06-2.06.94z\"/><path d=\"M17.41 7.96l-1.37-1.37c-.4-.4-.92-.59-1.43-.59-.52 0-1.04.2-1.43.59L10.3 9.45l-7.72 7.72c-.78.78-.78 2.05 0 2.83L4 21.41c.39.39.9.59 1.41.59.51 0 1.02-.2 1.41-.59l7.78-7.78 2.81-2.81c.8-.78.8-2.07 0-2.86zM5.41 20L4 18.59l7.72-7.72 1.47 1.35L5.41 20z\"/>\n",
              "  </svg>\n",
              "      </button>\n",
              "      \n",
              "  <style>\n",
              "    .colab-df-container {\n",
              "      display:flex;\n",
              "      flex-wrap:wrap;\n",
              "      gap: 12px;\n",
              "    }\n",
              "\n",
              "    .colab-df-convert {\n",
              "      background-color: #E8F0FE;\n",
              "      border: none;\n",
              "      border-radius: 50%;\n",
              "      cursor: pointer;\n",
              "      display: none;\n",
              "      fill: #1967D2;\n",
              "      height: 32px;\n",
              "      padding: 0 0 0 0;\n",
              "      width: 32px;\n",
              "    }\n",
              "\n",
              "    .colab-df-convert:hover {\n",
              "      background-color: #E2EBFA;\n",
              "      box-shadow: 0px 1px 2px rgba(60, 64, 67, 0.3), 0px 1px 3px 1px rgba(60, 64, 67, 0.15);\n",
              "      fill: #174EA6;\n",
              "    }\n",
              "\n",
              "    [theme=dark] .colab-df-convert {\n",
              "      background-color: #3B4455;\n",
              "      fill: #D2E3FC;\n",
              "    }\n",
              "\n",
              "    [theme=dark] .colab-df-convert:hover {\n",
              "      background-color: #434B5C;\n",
              "      box-shadow: 0px 1px 3px 1px rgba(0, 0, 0, 0.15);\n",
              "      filter: drop-shadow(0px 1px 2px rgba(0, 0, 0, 0.3));\n",
              "      fill: #FFFFFF;\n",
              "    }\n",
              "  </style>\n",
              "\n",
              "      <script>\n",
              "        const buttonEl =\n",
              "          document.querySelector('#df-8aa7a124-6c5c-4eb7-8b60-823183ce3b57 button.colab-df-convert');\n",
              "        buttonEl.style.display =\n",
              "          google.colab.kernel.accessAllowed ? 'block' : 'none';\n",
              "\n",
              "        async function convertToInteractive(key) {\n",
              "          const element = document.querySelector('#df-8aa7a124-6c5c-4eb7-8b60-823183ce3b57');\n",
              "          const dataTable =\n",
              "            await google.colab.kernel.invokeFunction('convertToInteractive',\n",
              "                                                     [key], {});\n",
              "          if (!dataTable) return;\n",
              "\n",
              "          const docLinkHtml = 'Like what you see? Visit the ' +\n",
              "            '<a target=\"_blank\" href=https://colab.research.google.com/notebooks/data_table.ipynb>data table notebook</a>'\n",
              "            + ' to learn more about interactive tables.';\n",
              "          element.innerHTML = '';\n",
              "          dataTable['output_type'] = 'display_data';\n",
              "          await google.colab.output.renderOutput(dataTable, element);\n",
              "          const docLink = document.createElement('div');\n",
              "          docLink.innerHTML = docLinkHtml;\n",
              "          element.appendChild(docLink);\n",
              "        }\n",
              "      </script>\n",
              "    </div>\n",
              "  </div>\n",
              "  "
            ]
          },
          "metadata": {},
          "execution_count": 101
        }
      ]
    },
    {
      "cell_type": "code",
      "source": [
        "rla = topn.RecListAnalysis()\n",
        "rla.add_metric(topn.recip_rank)\n",
        "rla.add_metric(topn.ndcg)\n",
        "rla.add_metric(topn.dcg)\n",
        "results = rla.compute(all_recs_als, test_data)\n",
        "results.head()"
      ],
      "metadata": {
        "colab": {
          "base_uri": "https://localhost:8080/",
          "height": 237
        },
        "id": "ulszRBzQ_GA8",
        "outputId": "268d16d4-795b-48ed-faf7-71da8a35ba81"
      },
      "execution_count": 103,
      "outputs": [
        {
          "output_type": "execute_result",
          "data": {
            "text/plain": [
              "                  nrecs  recip_rank  ndcg  dcg\n",
              "algorithm user                                \n",
              "ALS       28170      10         0.0   NaN  NaN\n",
              "          56680      10         0.0   0.0  0.0\n",
              "          108460     10         0.0   0.0  0.0\n",
              "          139830     10         0.0   NaN  NaN\n",
              "          198430     10         0.0   NaN  NaN"
            ],
            "text/html": [
              "\n",
              "  <div id=\"df-e5ac87c2-179c-4ad1-83c0-d77d59eac021\">\n",
              "    <div class=\"colab-df-container\">\n",
              "      <div>\n",
              "<style scoped>\n",
              "    .dataframe tbody tr th:only-of-type {\n",
              "        vertical-align: middle;\n",
              "    }\n",
              "\n",
              "    .dataframe tbody tr th {\n",
              "        vertical-align: top;\n",
              "    }\n",
              "\n",
              "    .dataframe thead th {\n",
              "        text-align: right;\n",
              "    }\n",
              "</style>\n",
              "<table border=\"1\" class=\"dataframe\">\n",
              "  <thead>\n",
              "    <tr style=\"text-align: right;\">\n",
              "      <th></th>\n",
              "      <th></th>\n",
              "      <th>nrecs</th>\n",
              "      <th>recip_rank</th>\n",
              "      <th>ndcg</th>\n",
              "      <th>dcg</th>\n",
              "    </tr>\n",
              "    <tr>\n",
              "      <th>algorithm</th>\n",
              "      <th>user</th>\n",
              "      <th></th>\n",
              "      <th></th>\n",
              "      <th></th>\n",
              "      <th></th>\n",
              "    </tr>\n",
              "  </thead>\n",
              "  <tbody>\n",
              "    <tr>\n",
              "      <th rowspan=\"5\" valign=\"top\">ALS</th>\n",
              "      <th>28170</th>\n",
              "      <td>10</td>\n",
              "      <td>0.0</td>\n",
              "      <td>NaN</td>\n",
              "      <td>NaN</td>\n",
              "    </tr>\n",
              "    <tr>\n",
              "      <th>56680</th>\n",
              "      <td>10</td>\n",
              "      <td>0.0</td>\n",
              "      <td>0.0</td>\n",
              "      <td>0.0</td>\n",
              "    </tr>\n",
              "    <tr>\n",
              "      <th>108460</th>\n",
              "      <td>10</td>\n",
              "      <td>0.0</td>\n",
              "      <td>0.0</td>\n",
              "      <td>0.0</td>\n",
              "    </tr>\n",
              "    <tr>\n",
              "      <th>139830</th>\n",
              "      <td>10</td>\n",
              "      <td>0.0</td>\n",
              "      <td>NaN</td>\n",
              "      <td>NaN</td>\n",
              "    </tr>\n",
              "    <tr>\n",
              "      <th>198430</th>\n",
              "      <td>10</td>\n",
              "      <td>0.0</td>\n",
              "      <td>NaN</td>\n",
              "      <td>NaN</td>\n",
              "    </tr>\n",
              "  </tbody>\n",
              "</table>\n",
              "</div>\n",
              "      <button class=\"colab-df-convert\" onclick=\"convertToInteractive('df-e5ac87c2-179c-4ad1-83c0-d77d59eac021')\"\n",
              "              title=\"Convert this dataframe to an interactive table.\"\n",
              "              style=\"display:none;\">\n",
              "        \n",
              "  <svg xmlns=\"http://www.w3.org/2000/svg\" height=\"24px\"viewBox=\"0 0 24 24\"\n",
              "       width=\"24px\">\n",
              "    <path d=\"M0 0h24v24H0V0z\" fill=\"none\"/>\n",
              "    <path d=\"M18.56 5.44l.94 2.06.94-2.06 2.06-.94-2.06-.94-.94-2.06-.94 2.06-2.06.94zm-11 1L8.5 8.5l.94-2.06 2.06-.94-2.06-.94L8.5 2.5l-.94 2.06-2.06.94zm10 10l.94 2.06.94-2.06 2.06-.94-2.06-.94-.94-2.06-.94 2.06-2.06.94z\"/><path d=\"M17.41 7.96l-1.37-1.37c-.4-.4-.92-.59-1.43-.59-.52 0-1.04.2-1.43.59L10.3 9.45l-7.72 7.72c-.78.78-.78 2.05 0 2.83L4 21.41c.39.39.9.59 1.41.59.51 0 1.02-.2 1.41-.59l7.78-7.78 2.81-2.81c.8-.78.8-2.07 0-2.86zM5.41 20L4 18.59l7.72-7.72 1.47 1.35L5.41 20z\"/>\n",
              "  </svg>\n",
              "      </button>\n",
              "      \n",
              "  <style>\n",
              "    .colab-df-container {\n",
              "      display:flex;\n",
              "      flex-wrap:wrap;\n",
              "      gap: 12px;\n",
              "    }\n",
              "\n",
              "    .colab-df-convert {\n",
              "      background-color: #E8F0FE;\n",
              "      border: none;\n",
              "      border-radius: 50%;\n",
              "      cursor: pointer;\n",
              "      display: none;\n",
              "      fill: #1967D2;\n",
              "      height: 32px;\n",
              "      padding: 0 0 0 0;\n",
              "      width: 32px;\n",
              "    }\n",
              "\n",
              "    .colab-df-convert:hover {\n",
              "      background-color: #E2EBFA;\n",
              "      box-shadow: 0px 1px 2px rgba(60, 64, 67, 0.3), 0px 1px 3px 1px rgba(60, 64, 67, 0.15);\n",
              "      fill: #174EA6;\n",
              "    }\n",
              "\n",
              "    [theme=dark] .colab-df-convert {\n",
              "      background-color: #3B4455;\n",
              "      fill: #D2E3FC;\n",
              "    }\n",
              "\n",
              "    [theme=dark] .colab-df-convert:hover {\n",
              "      background-color: #434B5C;\n",
              "      box-shadow: 0px 1px 3px 1px rgba(0, 0, 0, 0.15);\n",
              "      filter: drop-shadow(0px 1px 2px rgba(0, 0, 0, 0.3));\n",
              "      fill: #FFFFFF;\n",
              "    }\n",
              "  </style>\n",
              "\n",
              "      <script>\n",
              "        const buttonEl =\n",
              "          document.querySelector('#df-e5ac87c2-179c-4ad1-83c0-d77d59eac021 button.colab-df-convert');\n",
              "        buttonEl.style.display =\n",
              "          google.colab.kernel.accessAllowed ? 'block' : 'none';\n",
              "\n",
              "        async function convertToInteractive(key) {\n",
              "          const element = document.querySelector('#df-e5ac87c2-179c-4ad1-83c0-d77d59eac021');\n",
              "          const dataTable =\n",
              "            await google.colab.kernel.invokeFunction('convertToInteractive',\n",
              "                                                     [key], {});\n",
              "          if (!dataTable) return;\n",
              "\n",
              "          const docLinkHtml = 'Like what you see? Visit the ' +\n",
              "            '<a target=\"_blank\" href=https://colab.research.google.com/notebooks/data_table.ipynb>data table notebook</a>'\n",
              "            + ' to learn more about interactive tables.';\n",
              "          element.innerHTML = '';\n",
              "          dataTable['output_type'] = 'display_data';\n",
              "          await google.colab.output.renderOutput(dataTable, element);\n",
              "          const docLink = document.createElement('div');\n",
              "          docLink.innerHTML = docLinkHtml;\n",
              "          element.appendChild(docLink);\n",
              "        }\n",
              "      </script>\n",
              "    </div>\n",
              "  </div>\n",
              "  "
            ]
          },
          "metadata": {},
          "execution_count": 103
        }
      ]
    },
    {
      "cell_type": "code",
      "source": [
        "results = results.reset_index()"
      ],
      "metadata": {
        "id": "xlzlQ4HzETXy"
      },
      "execution_count": 105,
      "outputs": []
    },
    {
      "cell_type": "code",
      "source": [
        "results[results.ndcg > 0]"
      ],
      "metadata": {
        "colab": {
          "base_uri": "https://localhost:8080/",
          "height": 81
        },
        "id": "j4lNw39PEtD7",
        "outputId": "a948be2a-2f57-4b41-c272-c9fdd5e28325"
      },
      "execution_count": 115,
      "outputs": [
        {
          "output_type": "execute_result",
          "data": {
            "text/plain": [
              "      algorithm    user  nrecs  recip_rank      ndcg       dcg\n",
              "20473       ALS  593927     10         0.5  0.085188  3.154649"
            ],
            "text/html": [
              "\n",
              "  <div id=\"df-6528e2cc-bd6d-4fed-8ba8-0ced4de81004\">\n",
              "    <div class=\"colab-df-container\">\n",
              "      <div>\n",
              "<style scoped>\n",
              "    .dataframe tbody tr th:only-of-type {\n",
              "        vertical-align: middle;\n",
              "    }\n",
              "\n",
              "    .dataframe tbody tr th {\n",
              "        vertical-align: top;\n",
              "    }\n",
              "\n",
              "    .dataframe thead th {\n",
              "        text-align: right;\n",
              "    }\n",
              "</style>\n",
              "<table border=\"1\" class=\"dataframe\">\n",
              "  <thead>\n",
              "    <tr style=\"text-align: right;\">\n",
              "      <th></th>\n",
              "      <th>algorithm</th>\n",
              "      <th>user</th>\n",
              "      <th>nrecs</th>\n",
              "      <th>recip_rank</th>\n",
              "      <th>ndcg</th>\n",
              "      <th>dcg</th>\n",
              "    </tr>\n",
              "  </thead>\n",
              "  <tbody>\n",
              "    <tr>\n",
              "      <th>20473</th>\n",
              "      <td>ALS</td>\n",
              "      <td>593927</td>\n",
              "      <td>10</td>\n",
              "      <td>0.5</td>\n",
              "      <td>0.085188</td>\n",
              "      <td>3.154649</td>\n",
              "    </tr>\n",
              "  </tbody>\n",
              "</table>\n",
              "</div>\n",
              "      <button class=\"colab-df-convert\" onclick=\"convertToInteractive('df-6528e2cc-bd6d-4fed-8ba8-0ced4de81004')\"\n",
              "              title=\"Convert this dataframe to an interactive table.\"\n",
              "              style=\"display:none;\">\n",
              "        \n",
              "  <svg xmlns=\"http://www.w3.org/2000/svg\" height=\"24px\"viewBox=\"0 0 24 24\"\n",
              "       width=\"24px\">\n",
              "    <path d=\"M0 0h24v24H0V0z\" fill=\"none\"/>\n",
              "    <path d=\"M18.56 5.44l.94 2.06.94-2.06 2.06-.94-2.06-.94-.94-2.06-.94 2.06-2.06.94zm-11 1L8.5 8.5l.94-2.06 2.06-.94-2.06-.94L8.5 2.5l-.94 2.06-2.06.94zm10 10l.94 2.06.94-2.06 2.06-.94-2.06-.94-.94-2.06-.94 2.06-2.06.94z\"/><path d=\"M17.41 7.96l-1.37-1.37c-.4-.4-.92-.59-1.43-.59-.52 0-1.04.2-1.43.59L10.3 9.45l-7.72 7.72c-.78.78-.78 2.05 0 2.83L4 21.41c.39.39.9.59 1.41.59.51 0 1.02-.2 1.41-.59l7.78-7.78 2.81-2.81c.8-.78.8-2.07 0-2.86zM5.41 20L4 18.59l7.72-7.72 1.47 1.35L5.41 20z\"/>\n",
              "  </svg>\n",
              "      </button>\n",
              "      \n",
              "  <style>\n",
              "    .colab-df-container {\n",
              "      display:flex;\n",
              "      flex-wrap:wrap;\n",
              "      gap: 12px;\n",
              "    }\n",
              "\n",
              "    .colab-df-convert {\n",
              "      background-color: #E8F0FE;\n",
              "      border: none;\n",
              "      border-radius: 50%;\n",
              "      cursor: pointer;\n",
              "      display: none;\n",
              "      fill: #1967D2;\n",
              "      height: 32px;\n",
              "      padding: 0 0 0 0;\n",
              "      width: 32px;\n",
              "    }\n",
              "\n",
              "    .colab-df-convert:hover {\n",
              "      background-color: #E2EBFA;\n",
              "      box-shadow: 0px 1px 2px rgba(60, 64, 67, 0.3), 0px 1px 3px 1px rgba(60, 64, 67, 0.15);\n",
              "      fill: #174EA6;\n",
              "    }\n",
              "\n",
              "    [theme=dark] .colab-df-convert {\n",
              "      background-color: #3B4455;\n",
              "      fill: #D2E3FC;\n",
              "    }\n",
              "\n",
              "    [theme=dark] .colab-df-convert:hover {\n",
              "      background-color: #434B5C;\n",
              "      box-shadow: 0px 1px 3px 1px rgba(0, 0, 0, 0.15);\n",
              "      filter: drop-shadow(0px 1px 2px rgba(0, 0, 0, 0.3));\n",
              "      fill: #FFFFFF;\n",
              "    }\n",
              "  </style>\n",
              "\n",
              "      <script>\n",
              "        const buttonEl =\n",
              "          document.querySelector('#df-6528e2cc-bd6d-4fed-8ba8-0ced4de81004 button.colab-df-convert');\n",
              "        buttonEl.style.display =\n",
              "          google.colab.kernel.accessAllowed ? 'block' : 'none';\n",
              "\n",
              "        async function convertToInteractive(key) {\n",
              "          const element = document.querySelector('#df-6528e2cc-bd6d-4fed-8ba8-0ced4de81004');\n",
              "          const dataTable =\n",
              "            await google.colab.kernel.invokeFunction('convertToInteractive',\n",
              "                                                     [key], {});\n",
              "          if (!dataTable) return;\n",
              "\n",
              "          const docLinkHtml = 'Like what you see? Visit the ' +\n",
              "            '<a target=\"_blank\" href=https://colab.research.google.com/notebooks/data_table.ipynb>data table notebook</a>'\n",
              "            + ' to learn more about interactive tables.';\n",
              "          element.innerHTML = '';\n",
              "          dataTable['output_type'] = 'display_data';\n",
              "          await google.colab.output.renderOutput(dataTable, element);\n",
              "          const docLink = document.createElement('div');\n",
              "          docLink.innerHTML = docLinkHtml;\n",
              "          element.appendChild(docLink);\n",
              "        }\n",
              "      </script>\n",
              "    </div>\n",
              "  </div>\n",
              "  "
            ]
          },
          "metadata": {},
          "execution_count": 115
        }
      ]
    },
    {
      "cell_type": "code",
      "source": [
        "results[results.dcg > 0]"
      ],
      "metadata": {
        "colab": {
          "base_uri": "https://localhost:8080/",
          "height": 81
        },
        "id": "E_g7AkdfFzKx",
        "outputId": "0c00eea5-11a4-4d57-a32a-3f52a160b79e"
      },
      "execution_count": 116,
      "outputs": [
        {
          "output_type": "execute_result",
          "data": {
            "text/plain": [
              "      algorithm    user  nrecs  recip_rank      ndcg       dcg\n",
              "20473       ALS  593927     10         0.5  0.085188  3.154649"
            ],
            "text/html": [
              "\n",
              "  <div id=\"df-36d80c2f-a9e1-4a91-b017-81671d2468ae\">\n",
              "    <div class=\"colab-df-container\">\n",
              "      <div>\n",
              "<style scoped>\n",
              "    .dataframe tbody tr th:only-of-type {\n",
              "        vertical-align: middle;\n",
              "    }\n",
              "\n",
              "    .dataframe tbody tr th {\n",
              "        vertical-align: top;\n",
              "    }\n",
              "\n",
              "    .dataframe thead th {\n",
              "        text-align: right;\n",
              "    }\n",
              "</style>\n",
              "<table border=\"1\" class=\"dataframe\">\n",
              "  <thead>\n",
              "    <tr style=\"text-align: right;\">\n",
              "      <th></th>\n",
              "      <th>algorithm</th>\n",
              "      <th>user</th>\n",
              "      <th>nrecs</th>\n",
              "      <th>recip_rank</th>\n",
              "      <th>ndcg</th>\n",
              "      <th>dcg</th>\n",
              "    </tr>\n",
              "  </thead>\n",
              "  <tbody>\n",
              "    <tr>\n",
              "      <th>20473</th>\n",
              "      <td>ALS</td>\n",
              "      <td>593927</td>\n",
              "      <td>10</td>\n",
              "      <td>0.5</td>\n",
              "      <td>0.085188</td>\n",
              "      <td>3.154649</td>\n",
              "    </tr>\n",
              "  </tbody>\n",
              "</table>\n",
              "</div>\n",
              "      <button class=\"colab-df-convert\" onclick=\"convertToInteractive('df-36d80c2f-a9e1-4a91-b017-81671d2468ae')\"\n",
              "              title=\"Convert this dataframe to an interactive table.\"\n",
              "              style=\"display:none;\">\n",
              "        \n",
              "  <svg xmlns=\"http://www.w3.org/2000/svg\" height=\"24px\"viewBox=\"0 0 24 24\"\n",
              "       width=\"24px\">\n",
              "    <path d=\"M0 0h24v24H0V0z\" fill=\"none\"/>\n",
              "    <path d=\"M18.56 5.44l.94 2.06.94-2.06 2.06-.94-2.06-.94-.94-2.06-.94 2.06-2.06.94zm-11 1L8.5 8.5l.94-2.06 2.06-.94-2.06-.94L8.5 2.5l-.94 2.06-2.06.94zm10 10l.94 2.06.94-2.06 2.06-.94-2.06-.94-.94-2.06-.94 2.06-2.06.94z\"/><path d=\"M17.41 7.96l-1.37-1.37c-.4-.4-.92-.59-1.43-.59-.52 0-1.04.2-1.43.59L10.3 9.45l-7.72 7.72c-.78.78-.78 2.05 0 2.83L4 21.41c.39.39.9.59 1.41.59.51 0 1.02-.2 1.41-.59l7.78-7.78 2.81-2.81c.8-.78.8-2.07 0-2.86zM5.41 20L4 18.59l7.72-7.72 1.47 1.35L5.41 20z\"/>\n",
              "  </svg>\n",
              "      </button>\n",
              "      \n",
              "  <style>\n",
              "    .colab-df-container {\n",
              "      display:flex;\n",
              "      flex-wrap:wrap;\n",
              "      gap: 12px;\n",
              "    }\n",
              "\n",
              "    .colab-df-convert {\n",
              "      background-color: #E8F0FE;\n",
              "      border: none;\n",
              "      border-radius: 50%;\n",
              "      cursor: pointer;\n",
              "      display: none;\n",
              "      fill: #1967D2;\n",
              "      height: 32px;\n",
              "      padding: 0 0 0 0;\n",
              "      width: 32px;\n",
              "    }\n",
              "\n",
              "    .colab-df-convert:hover {\n",
              "      background-color: #E2EBFA;\n",
              "      box-shadow: 0px 1px 2px rgba(60, 64, 67, 0.3), 0px 1px 3px 1px rgba(60, 64, 67, 0.15);\n",
              "      fill: #174EA6;\n",
              "    }\n",
              "\n",
              "    [theme=dark] .colab-df-convert {\n",
              "      background-color: #3B4455;\n",
              "      fill: #D2E3FC;\n",
              "    }\n",
              "\n",
              "    [theme=dark] .colab-df-convert:hover {\n",
              "      background-color: #434B5C;\n",
              "      box-shadow: 0px 1px 3px 1px rgba(0, 0, 0, 0.15);\n",
              "      filter: drop-shadow(0px 1px 2px rgba(0, 0, 0, 0.3));\n",
              "      fill: #FFFFFF;\n",
              "    }\n",
              "  </style>\n",
              "\n",
              "      <script>\n",
              "        const buttonEl =\n",
              "          document.querySelector('#df-36d80c2f-a9e1-4a91-b017-81671d2468ae button.colab-df-convert');\n",
              "        buttonEl.style.display =\n",
              "          google.colab.kernel.accessAllowed ? 'block' : 'none';\n",
              "\n",
              "        async function convertToInteractive(key) {\n",
              "          const element = document.querySelector('#df-36d80c2f-a9e1-4a91-b017-81671d2468ae');\n",
              "          const dataTable =\n",
              "            await google.colab.kernel.invokeFunction('convertToInteractive',\n",
              "                                                     [key], {});\n",
              "          if (!dataTable) return;\n",
              "\n",
              "          const docLinkHtml = 'Like what you see? Visit the ' +\n",
              "            '<a target=\"_blank\" href=https://colab.research.google.com/notebooks/data_table.ipynb>data table notebook</a>'\n",
              "            + ' to learn more about interactive tables.';\n",
              "          element.innerHTML = '';\n",
              "          dataTable['output_type'] = 'display_data';\n",
              "          await google.colab.output.renderOutput(dataTable, element);\n",
              "          const docLink = document.createElement('div');\n",
              "          docLink.innerHTML = docLinkHtml;\n",
              "          element.appendChild(docLink);\n",
              "        }\n",
              "      </script>\n",
              "    </div>\n",
              "  </div>\n",
              "  "
            ]
          },
          "metadata": {},
          "execution_count": 116
        }
      ]
    },
    {
      "cell_type": "code",
      "source": [
        "results[results.recip_rank > 0]"
      ],
      "metadata": {
        "colab": {
          "base_uri": "https://localhost:8080/",
          "height": 81
        },
        "id": "SGlgrjp2FcDS",
        "outputId": "b1f901df-134e-475f-c9b4-44ba37cd494f"
      },
      "execution_count": 117,
      "outputs": [
        {
          "output_type": "execute_result",
          "data": {
            "text/plain": [
              "      algorithm    user  nrecs  recip_rank      ndcg       dcg\n",
              "20473       ALS  593927     10         0.5  0.085188  3.154649"
            ],
            "text/html": [
              "\n",
              "  <div id=\"df-722311fd-06d8-403a-9baf-d045ae348a7c\">\n",
              "    <div class=\"colab-df-container\">\n",
              "      <div>\n",
              "<style scoped>\n",
              "    .dataframe tbody tr th:only-of-type {\n",
              "        vertical-align: middle;\n",
              "    }\n",
              "\n",
              "    .dataframe tbody tr th {\n",
              "        vertical-align: top;\n",
              "    }\n",
              "\n",
              "    .dataframe thead th {\n",
              "        text-align: right;\n",
              "    }\n",
              "</style>\n",
              "<table border=\"1\" class=\"dataframe\">\n",
              "  <thead>\n",
              "    <tr style=\"text-align: right;\">\n",
              "      <th></th>\n",
              "      <th>algorithm</th>\n",
              "      <th>user</th>\n",
              "      <th>nrecs</th>\n",
              "      <th>recip_rank</th>\n",
              "      <th>ndcg</th>\n",
              "      <th>dcg</th>\n",
              "    </tr>\n",
              "  </thead>\n",
              "  <tbody>\n",
              "    <tr>\n",
              "      <th>20473</th>\n",
              "      <td>ALS</td>\n",
              "      <td>593927</td>\n",
              "      <td>10</td>\n",
              "      <td>0.5</td>\n",
              "      <td>0.085188</td>\n",
              "      <td>3.154649</td>\n",
              "    </tr>\n",
              "  </tbody>\n",
              "</table>\n",
              "</div>\n",
              "      <button class=\"colab-df-convert\" onclick=\"convertToInteractive('df-722311fd-06d8-403a-9baf-d045ae348a7c')\"\n",
              "              title=\"Convert this dataframe to an interactive table.\"\n",
              "              style=\"display:none;\">\n",
              "        \n",
              "  <svg xmlns=\"http://www.w3.org/2000/svg\" height=\"24px\"viewBox=\"0 0 24 24\"\n",
              "       width=\"24px\">\n",
              "    <path d=\"M0 0h24v24H0V0z\" fill=\"none\"/>\n",
              "    <path d=\"M18.56 5.44l.94 2.06.94-2.06 2.06-.94-2.06-.94-.94-2.06-.94 2.06-2.06.94zm-11 1L8.5 8.5l.94-2.06 2.06-.94-2.06-.94L8.5 2.5l-.94 2.06-2.06.94zm10 10l.94 2.06.94-2.06 2.06-.94-2.06-.94-.94-2.06-.94 2.06-2.06.94z\"/><path d=\"M17.41 7.96l-1.37-1.37c-.4-.4-.92-.59-1.43-.59-.52 0-1.04.2-1.43.59L10.3 9.45l-7.72 7.72c-.78.78-.78 2.05 0 2.83L4 21.41c.39.39.9.59 1.41.59.51 0 1.02-.2 1.41-.59l7.78-7.78 2.81-2.81c.8-.78.8-2.07 0-2.86zM5.41 20L4 18.59l7.72-7.72 1.47 1.35L5.41 20z\"/>\n",
              "  </svg>\n",
              "      </button>\n",
              "      \n",
              "  <style>\n",
              "    .colab-df-container {\n",
              "      display:flex;\n",
              "      flex-wrap:wrap;\n",
              "      gap: 12px;\n",
              "    }\n",
              "\n",
              "    .colab-df-convert {\n",
              "      background-color: #E8F0FE;\n",
              "      border: none;\n",
              "      border-radius: 50%;\n",
              "      cursor: pointer;\n",
              "      display: none;\n",
              "      fill: #1967D2;\n",
              "      height: 32px;\n",
              "      padding: 0 0 0 0;\n",
              "      width: 32px;\n",
              "    }\n",
              "\n",
              "    .colab-df-convert:hover {\n",
              "      background-color: #E2EBFA;\n",
              "      box-shadow: 0px 1px 2px rgba(60, 64, 67, 0.3), 0px 1px 3px 1px rgba(60, 64, 67, 0.15);\n",
              "      fill: #174EA6;\n",
              "    }\n",
              "\n",
              "    [theme=dark] .colab-df-convert {\n",
              "      background-color: #3B4455;\n",
              "      fill: #D2E3FC;\n",
              "    }\n",
              "\n",
              "    [theme=dark] .colab-df-convert:hover {\n",
              "      background-color: #434B5C;\n",
              "      box-shadow: 0px 1px 3px 1px rgba(0, 0, 0, 0.15);\n",
              "      filter: drop-shadow(0px 1px 2px rgba(0, 0, 0, 0.3));\n",
              "      fill: #FFFFFF;\n",
              "    }\n",
              "  </style>\n",
              "\n",
              "      <script>\n",
              "        const buttonEl =\n",
              "          document.querySelector('#df-722311fd-06d8-403a-9baf-d045ae348a7c button.colab-df-convert');\n",
              "        buttonEl.style.display =\n",
              "          google.colab.kernel.accessAllowed ? 'block' : 'none';\n",
              "\n",
              "        async function convertToInteractive(key) {\n",
              "          const element = document.querySelector('#df-722311fd-06d8-403a-9baf-d045ae348a7c');\n",
              "          const dataTable =\n",
              "            await google.colab.kernel.invokeFunction('convertToInteractive',\n",
              "                                                     [key], {});\n",
              "          if (!dataTable) return;\n",
              "\n",
              "          const docLinkHtml = 'Like what you see? Visit the ' +\n",
              "            '<a target=\"_blank\" href=https://colab.research.google.com/notebooks/data_table.ipynb>data table notebook</a>'\n",
              "            + ' to learn more about interactive tables.';\n",
              "          element.innerHTML = '';\n",
              "          dataTable['output_type'] = 'display_data';\n",
              "          await google.colab.output.renderOutput(dataTable, element);\n",
              "          const docLink = document.createElement('div');\n",
              "          docLink.innerHTML = docLinkHtml;\n",
              "          element.appendChild(docLink);\n",
              "        }\n",
              "      </script>\n",
              "    </div>\n",
              "  </div>\n",
              "  "
            ]
          },
          "metadata": {},
          "execution_count": 117
        }
      ]
    },
    {
      "cell_type": "markdown",
      "source": [
        "Only one record with ndcg and dcg value greater than 0"
      ],
      "metadata": {
        "id": "CO6lghuxF-ib"
      }
    },
    {
      "cell_type": "code",
      "source": [],
      "metadata": {
        "id": "MntdL02wGUkX"
      },
      "execution_count": null,
      "outputs": []
    }
  ]
}